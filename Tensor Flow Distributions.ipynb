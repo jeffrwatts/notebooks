{
 "cells": [
  {
   "cell_type": "code",
   "execution_count": 1,
   "metadata": {},
   "outputs": [
    {
     "name": "stdout",
     "output_type": "stream",
     "text": [
      "2.0.0-rc0\n",
      "0.8.0-rc0\n"
     ]
    }
   ],
   "source": [
    "import math\n",
    "import numpy as np\n",
    "import tensorflow as tf\n",
    "import tensorflow_probability as tfp\n",
    "tfd = tfp.distributions\n",
    "\n",
    "try:\n",
    "    tf.compat.v1.enable_eager_execution()\n",
    "except ValueError:\n",
    "    pass\n",
    "\n",
    "import matplotlib.pyplot as plt\n",
    "\n",
    "print(tf.__version__)\n",
    "print(tfp.__version__)"
   ]
  },
  {
   "cell_type": "code",
   "execution_count": 2,
   "metadata": {},
   "outputs": [],
   "source": [
    "num_samples = 50000\n",
    "num_bins = 100"
   ]
  },
  {
   "cell_type": "markdown",
   "metadata": {},
   "source": [
    "# Bernoulli\n",
    "\n",
    "The probability distribution of any single experiment that asks a yes–no question; the question results in a boolean-valued outcome, a single bit whose value is {success/yes/true/one} with probability p and {failure/no/false/zero} with probability 1-p. It can be used to represent a (possibly biased) coin toss where 1 and 0 would represent \"heads\" and \"tails\" (or vice versa).\n",
    "\n",
    "### Bernoulli Probability Mass Function\n",
    "$$ p^k (1-p)^{1-k}$$"
   ]
  },
  {
   "cell_type": "code",
   "execution_count": 3,
   "metadata": {},
   "outputs": [],
   "source": [
    "def bernoulli_pmf (k, p):\n",
    "    return p**k * (1-p)**(1-k)"
   ]
  },
  {
   "cell_type": "code",
   "execution_count": 4,
   "metadata": {},
   "outputs": [],
   "source": [
    "bernoulli_prob = 0.8\n",
    "bernoulli = tfd.Bernoulli(probs=bernoulli_prob)"
   ]
  },
  {
   "cell_type": "code",
   "execution_count": 5,
   "metadata": {},
   "outputs": [
    {
     "data": {
      "image/png": "[encoded data removed]",
      "text/plain": [
       "<Figure size 432x288 with 1 Axes>"
      ]
     },
     "metadata": {
      "needs_background": "light"
     },
     "output_type": "display_data"
    }
   ],
   "source": [
    "samples = bernoulli.sample(num_samples)\n",
    "data = plt.hist(samples, bins=num_bins)"
   ]
  },
  {
   "cell_type": "code",
   "execution_count": 6,
   "metadata": {},
   "outputs": [
    {
     "name": "stdout",
     "output_type": "stream",
     "text": [
      "bernoulli_pmf: 0.8000000000000002\n",
      "TFD: 0.801\n"
     ]
    }
   ],
   "source": [
    "print(\"bernoulli_pmf: {}\".format(np.mean(bernoulli_pmf(np.ones(num_samples), bernoulli_prob))))\n",
    "print(\"TFD: {}\".format(np.mean(samples)))"
   ]
  },
  {
   "cell_type": "markdown",
   "metadata": {},
   "source": [
    "# Binomial\n",
    "\n",
    "The number of successes in a sequence of n independent experiments, each asking a yes–no question, and each with its own boolean-valued outcome: {success/yes/true/one} (with probability p) or {failure/no/false/zero} (with probability 1 − p). For a single success/failure experiment, i.e., n = 1, the binomial distribution is a Bernoulli distribution. \n",
    "\n",
    "The binomial distribution is frequently used to model the number of successes in a sample of size n drawn with replacement from a population of size N. If the sampling is carried out without replacement, the draws are not independent and so the resulting distribution is a hypergeometric distribution, not a binomial one. However, for N much larger than n, the binomial distribution remains a good approximation, and is widely used.\n",
    "\n",
    "### Binomial Probability Mass Function\n",
    "$$ {n \\choose k} p^k (1-p)^{ n-k}$$"
   ]
  },
  {
   "cell_type": "code",
   "execution_count": 7,
   "metadata": {},
   "outputs": [],
   "source": [
    "def n_choose_k(n, k):\n",
    "    return math.factorial(n) / ( math.factorial(k) * math.factorial(n-k))\n",
    "\n",
    "def binomial_pmf(n, k, p):\n",
    "    return n_choose_k(n, k) * p**k * (1-p)**(n-k)"
   ]
  },
  {
   "cell_type": "code",
   "execution_count": 8,
   "metadata": {},
   "outputs": [],
   "source": [
    "binomial_total = 10\n",
    "binomial_prob = 0.6\n",
    "binomial = tfd.Binomial(total_count=binomial_total, probs=binomial_prob)"
   ]
  },
  {
   "cell_type": "code",
   "execution_count": 9,
   "metadata": {},
   "outputs": [
    {
     "name": "stdout",
     "output_type": "stream",
     "text": [
      "binomial_pmf: 0.042467328000000006\n",
      "TFD: 0.04246729984879494\n"
     ]
    }
   ],
   "source": [
    "binomial_x = 3\n",
    "print(\"binomial_pmf: {}\".format(binomial_pmf(binomial_total, binomial_x, binomial_prob)))\n",
    "print(\"TFD: {}\".format(binomial.prob(binomial_x).numpy()))"
   ]
  },
  {
   "cell_type": "code",
   "execution_count": 10,
   "metadata": {},
   "outputs": [
    {
     "data": {
      "image/png": "[encoded data removed]",
      "text/plain": [
       "<Figure size 432x288 with 1 Axes>"
      ]
     },
     "metadata": {
      "needs_background": "light"
     },
     "output_type": "display_data"
    }
   ],
   "source": [
    "samples = binomial.sample(num_samples)\n",
    "data = plt.hist(samples, bins=num_bins)"
   ]
  },
  {
   "cell_type": "code",
   "execution_count": 11,
   "metadata": {},
   "outputs": [
    {
     "data": {
      "image/png": "[encoded data removed]",
      "text/plain": [
       "<Figure size 432x288 with 1 Axes>"
      ]
     },
     "metadata": {
      "needs_background": "light"
     },
     "output_type": "display_data"
    }
   ],
   "source": [
    "dist_range = np.arange(0, binomial_total, 0.01)\n",
    "dist = binomial.cdf(dist_range)\n",
    "data = plt.plot(dist_range, dist)"
   ]
  },
  {
   "cell_type": "markdown",
   "metadata": {},
   "source": [
    "# Beta\n",
    "\n",
    "### Beta Probability Density Function\n",
    "\n",
    "$$ \\frac{\\gamma(\\alpha+\\beta)}{\\gamma(\\alpha) * \\gamma(\\beta)} * x^{\\alpha-1} * (1-x)^{\\beta-1} $$"
   ]
  },
  {
   "cell_type": "code",
   "execution_count": 12,
   "metadata": {},
   "outputs": [],
   "source": [
    "def beta_pmf(x, alpha, beta):\n",
    "    constant = math.gamma(alpha+beta)/(math.gamma(alpha) * math.gamma(beta))\n",
    "    return constant * x**(alpha-1) * (1-x)**(beta-1)"
   ]
  },
  {
   "cell_type": "code",
   "execution_count": 13,
   "metadata": {},
   "outputs": [],
   "source": [
    "beta_alpha = 8 # Concentration parameter associated with a 1 outcome.\n",
    "beta_beta = 12 # Concentration parameter associated with a 0 outcome.\n",
    "beta = tfd.Beta(concentration1 = beta_alpha, concentration0 = beta_beta)"
   ]
  },
  {
   "cell_type": "code",
   "execution_count": 14,
   "metadata": {},
   "outputs": [
    {
     "name": "stdout",
     "output_type": "stream",
     "text": [
      "beta_pmf: 3.5941157550937866\n",
      "TFD: 3.594118595123291\n"
     ]
    }
   ],
   "source": [
    "beta_x = 0.4\n",
    "print(\"beta_pmf: {}\".format(beta_pmf(beta_x, beta_alpha, beta_beta)))\n",
    "print(\"TFD: {}\".format(beta.prob(beta_x).numpy()))"
   ]
  },
  {
   "cell_type": "code",
   "execution_count": 15,
   "metadata": {},
   "outputs": [
    {
     "data": {
      "image/png": "[encoded data removed]",
      "text/plain": [
       "<Figure size 432x288 with 1 Axes>"
      ]
     },
     "metadata": {
      "needs_background": "light"
     },
     "output_type": "display_data"
    }
   ],
   "source": [
    "samples = beta.sample(num_samples)\n",
    "data = plt.hist(samples, bins=num_bins)"
   ]
  },
  {
   "cell_type": "code",
   "execution_count": 16,
   "metadata": {},
   "outputs": [
    {
     "data": {
      "image/png": "[encoded data removed]",
      "text/plain": [
       "<Figure size 432x288 with 1 Axes>"
      ]
     },
     "metadata": {
      "needs_background": "light"
     },
     "output_type": "display_data"
    }
   ],
   "source": [
    "dist_range = np.arange(0, 1, 0.01)\n",
    "dist = beta.cdf(dist_range)\n",
    "data = plt.plot(dist_range, dist)"
   ]
  },
  {
   "cell_type": "markdown",
   "metadata": {},
   "source": [
    "# Poisson\n",
    "\n",
    "The Poisson distribution is popular for modelling the number of times an event occurs in an interval of time or space.\n",
    "\n",
    "### Example\n",
    "The Poisson distribution may be useful to model events such as\n",
    "\n",
    "* The number of meteorites greater than 1 meter diameter that strike Earth in a year\n",
    "* The number of patients arriving in an emergency room between 10 and 11 pm\n",
    "* The number of photons hitting a detector in a particular time interval\n",
    "\n",
    "### Assumptions and validity\n",
    "The Poisson distribution is an appropriate model if the following assumptions are true.\n",
    "\n",
    "* k is the number of times an event occurs in an interval and k can take values 0, 1, 2, ....\n",
    "* The occurrence of one event does not affect the probability that a second event will occur. That is, events occur independently.\n",
    "* The average rate at which events occur is constant.\n",
    "* Two events cannot occur at exactly the same instant; instead, at each very small sub-interval exactly one event either occurs or does not occur.\n",
    "\n",
    "Or\n",
    "\n",
    "* The actual probability distribution is given by a binomial distribution and the number of trials is sufficiently bigger than the number of successes one is asking about.\n",
    "\n",
    "If these conditions are true, then k is a Poisson random variable, and the distribution of k is a Poisson distribution.\n",
    "\n",
    "The average number of events in an interval is designated lambda.  (event rate is lambda)\n",
    "\n",
    "### Poisson Probability Mass Function\n",
    "$$ e^{-\\lambda} * \\frac{\\lambda^k}{k!} $$"
   ]
  },
  {
   "cell_type": "code",
   "execution_count": 17,
   "metadata": {},
   "outputs": [],
   "source": [
    "def poisson_pmf(l, k):\n",
    "    return (l**k * math.exp(-l)) / math.factorial(k)"
   ]
  },
  {
   "cell_type": "code",
   "execution_count": 18,
   "metadata": {},
   "outputs": [],
   "source": [
    "poisson_lambda = 10. \n",
    "poisson = tfd.Poisson(rate=poisson_lambda)"
   ]
  },
  {
   "cell_type": "code",
   "execution_count": 19,
   "metadata": {},
   "outputs": [
    {
     "name": "stdout",
     "output_type": "stream",
     "text": [
      "poisson_pmf: 0.007566654960414142\n",
      "TFD: 0.007566655520349741\n"
     ]
    }
   ],
   "source": [
    "poisson_k = 3\n",
    "print(\"poisson_pmf: {}\".format(poisson_pmf(poisson_lambda, poisson_k)))\n",
    "print(\"TFD: {}\".format(poisson.prob(poisson_k).numpy()))"
   ]
  },
  {
   "cell_type": "code",
   "execution_count": 20,
   "metadata": {},
   "outputs": [
    {
     "data": {
      "image/png": "[encoded data removed]",
      "text/plain": [
       "<Figure size 432x288 with 1 Axes>"
      ]
     },
     "metadata": {
      "needs_background": "light"
     },
     "output_type": "display_data"
    }
   ],
   "source": [
    "samples = poisson.sample(num_samples)\n",
    "data = plt.hist(samples, bins=num_bins)"
   ]
  },
  {
   "cell_type": "code",
   "execution_count": 21,
   "metadata": {},
   "outputs": [
    {
     "data": {
      "image/png": "[encoded data removed]",
      "text/plain": [
       "<Figure size 432x288 with 1 Axes>"
      ]
     },
     "metadata": {
      "needs_background": "light"
     },
     "output_type": "display_data"
    }
   ],
   "source": [
    "dist_range = np.arange(0, np.amax(samples), 0.01)\n",
    "dist = poisson.cdf(dist_range)\n",
    "data = plt.plot(dist_range, dist)"
   ]
  },
  {
   "cell_type": "markdown",
   "metadata": {},
   "source": [
    "# Gamma"
   ]
  },
  {
   "cell_type": "code",
   "execution_count": 22,
   "metadata": {},
   "outputs": [],
   "source": [
    "gamma_alpha = 8 # concentration\n",
    "gamma_beta = 5 #rate\n",
    "\n",
    "gamma = tfd.Gamma(concentration=gamma_alpha, rate=gamma_beta)"
   ]
  },
  {
   "cell_type": "code",
   "execution_count": 23,
   "metadata": {},
   "outputs": [
    {
     "data": {
      "image/png": "[encoded data removed]",
      "text/plain": [
       "<Figure size 432x288 with 1 Axes>"
      ]
     },
     "metadata": {
      "needs_background": "light"
     },
     "output_type": "display_data"
    }
   ],
   "source": [
    "samples = gamma.sample(num_samples)\n",
    "data = plt.hist(samples, bins=num_bins)"
   ]
  },
  {
   "cell_type": "code",
   "execution_count": 24,
   "metadata": {},
   "outputs": [
    {
     "data": {
      "image/png": "[encoded data removed]",
      "text/plain": [
       "<Figure size 432x288 with 1 Axes>"
      ]
     },
     "metadata": {
      "needs_background": "light"
     },
     "output_type": "display_data"
    }
   ],
   "source": [
    "dist_range = np.arange(0, np.amax(samples), 0.01)\n",
    "dist = gamma.cdf(dist_range)\n",
    "data = plt.plot(dist_range, dist)"
   ]
  },
  {
   "cell_type": "markdown",
   "metadata": {},
   "source": [
    "# Normal"
   ]
  },
  {
   "cell_type": "code",
   "execution_count": 25,
   "metadata": {},
   "outputs": [],
   "source": [
    "norm_mean = 0\n",
    "norm_std = 1\n",
    "normal = tfd.Normal(loc=norm_mean, scale=norm_std)"
   ]
  },
  {
   "cell_type": "code",
   "execution_count": 26,
   "metadata": {},
   "outputs": [
    {
     "data": {
      "image/png": "[encoded data removed]",
      "text/plain": [
       "<Figure size 432x288 with 1 Axes>"
      ]
     },
     "metadata": {
      "needs_background": "light"
     },
     "output_type": "display_data"
    }
   ],
   "source": [
    "samples = normal.sample(num_samples)\n",
    "data = plt.hist(samples, bins=num_bins)"
   ]
  },
  {
   "cell_type": "code",
   "execution_count": 27,
   "metadata": {},
   "outputs": [
    {
     "data": {
      "image/png": "[encoded data removed]",
      "text/plain": [
       "<Figure size 432x288 with 1 Axes>"
      ]
     },
     "metadata": {
      "needs_background": "light"
     },
     "output_type": "display_data"
    }
   ],
   "source": [
    "dist_range = np.arange(np.amin(samples), np.amax(samples), 0.01)\n",
    "dist = normal.cdf(dist_range)\n",
    "data = plt.plot(dist_range, dist)"
   ]
  },
  {
   "cell_type": "markdown",
   "metadata": {},
   "source": [
    "# T"
   ]
  },
  {
   "cell_type": "code",
   "execution_count": 28,
   "metadata": {},
   "outputs": [],
   "source": [
    "df = 5.\n",
    "loc = 0.\n",
    "scale = 1.\n",
    "tstudent = tfd.StudentT(df=df, loc=loc, scale=scale)"
   ]
  },
  {
   "cell_type": "code",
   "execution_count": 29,
   "metadata": {},
   "outputs": [
    {
     "data": {
      "image/png": "[encoded data removed]",
      "text/plain": [
       "<Figure size 432x288 with 1 Axes>"
      ]
     },
     "metadata": {
      "needs_background": "light"
     },
     "output_type": "display_data"
    }
   ],
   "source": [
    "samples = tstudent.sample(num_samples)\n",
    "data = plt.hist(samples, bins=num_bins)"
   ]
  },
  {
   "cell_type": "code",
   "execution_count": 30,
   "metadata": {},
   "outputs": [
    {
     "data": {
      "image/png": "[encoded data removed]",
      "text/plain": [
       "<Figure size 432x288 with 1 Axes>"
      ]
     },
     "metadata": {
      "needs_background": "light"
     },
     "output_type": "display_data"
    }
   ],
   "source": [
    "dist_range = np.arange(np.amin(samples), np.amax(samples), 0.01)\n",
    "dist = tstudent.cdf(dist_range)\n",
    "data = plt.plot(dist_range, dist)"
   ]
  },
  {
   "cell_type": "code",
   "execution_count": null,
   "metadata": {},
   "outputs": [],
   "source": []
  }
 ],
 "metadata": {
  "kernelspec": {
   "display_name": "Python 3",
   "language": "python",
   "name": "python3"
  },
  "language_info": {
   "codemirror_mode": {
    "name": "ipython",
    "version": 3
   },
   "file_extension": ".py",
   "mimetype": "text/x-python",
   "name": "python",
   "nbconvert_exporter": "python",
   "pygments_lexer": "ipython3",
   "version": "3.7.3"
  }
 },
 "nbformat": 4,
 "nbformat_minor": 2
}
